{
  "cells": [
    {
      "cell_type": "markdown",
      "metadata": {
        "id": "bs62borfnpYy"
      },
      "source": [
        "### Importacion de dependencias"
      ]
    },
    {
      "cell_type": "code",
      "execution_count": 13,
      "metadata": {
        "id": "WXdkHhMZno_z"
      },
      "outputs": [],
      "source": [
        "import torch #nucleo de pytorch\n",
        "import torch.optim as optim #importamos el modulo de optimizadores de pytorch\n",
        "from torchvision import datasets, transforms # importamos datasets ya preparados.\n",
        "import torch.nn as nn  #importamos el modulo de redes neuronales de pytorch\n",
        "from torch.utils.data import DataLoader #Nos sirve para cargar los datos en porciones y hacer un barajado."
      ]
    },
    {
      "cell_type": "markdown",
      "metadata": {
        "id": "zQK-TVGeo9YZ"
      },
      "source": [
        "### Datasets.\n",
        "Primero convertimos la imagen en un formato que PyTorch pueda entender: un tensor con valores entre 0 y 1. Luego, lo reescalamos para que esos valores estén entre -1 y 1, que es mejor para que la red aprenda. Es como decirle al modelo: ‘todo está centrado y balanceado, ahora aprendé’"
      ]
    },
    {
      "cell_type": "code",
      "execution_count": 14,
      "metadata": {
        "id": "OqhmStEIpCQh"
      },
      "outputs": [],
      "source": [
        "transform = transforms.Compose([\n",
        "    transforms.ToTensor(),                    # Convierte a tensor (0-1)\n",
        "    transforms.Normalize((0.5,), (0.5,))     # Normaliza a (-1, 1)\n",
        "])"
      ]
    },
    {
      "cell_type": "markdown",
      "metadata": {
        "id": "vRBsiG0dqFPu"
      },
      "source": [
        "### Cargar el dataset de entrenamiento FashionMNIST y el de test"
      ]
    },
    {
      "cell_type": "code",
      "execution_count": 15,
      "metadata": {
        "id": "LNDnXtCeqMrH"
      },
      "outputs": [],
      "source": [
        "train_dataset = datasets.FashionMNIST(\n",
        "    root= \"./data\",\n",
        "    train=True,\n",
        "    download=True,\n",
        "    transform=transform\n",
        ")\n",
        "\n",
        "#TODO: Carga el dataset de Test.\n",
        "test_dataset = datasets.FashionMNIST(\n",
        "    root= \"./data\",\n",
        "    train=False,\n",
        "    download=True,\n",
        "    transform=transform\n",
        ")"
      ]
    },
    {
      "cell_type": "markdown",
      "metadata": {
        "id": "zlKm59larUqe"
      },
      "source": [
        "### Crea el DataLoader para entrenamiento: agrupa los datos en lotes (batch_size=8) y mezclalos con (shuffle=True)"
      ]
    },
    {
      "cell_type": "code",
      "execution_count": 16,
      "metadata": {
        "id": "c4KgdPd7rYCF"
      },
      "outputs": [],
      "source": [
        "#TODO: Crear el DataLoader para el set de train\n",
        "train_loader = DataLoader(dataset=train_dataset, batch_size=8, shuffle=True)"
      ]
    },
    {
      "cell_type": "markdown",
      "metadata": {
        "id": "aKCy-wMIr2nn"
      },
      "source": [
        "### Crea  el DataLoader para test: lotes más grandes (1000 imágenes) y sin mezclar (shuffle=False)\n"
      ]
    },
    {
      "cell_type": "code",
      "execution_count": 17,
      "metadata": {
        "id": "ZiFhmt3or7DG"
      },
      "outputs": [],
      "source": [
        "#TODO: Crear el DataLoader para el set de test.\n",
        "test_loader = DataLoader(dataset=test_dataset, batch_size=1000, shuffle=False)"
      ]
    },
    {
      "cell_type": "markdown",
      "metadata": {
        "id": "X0uJ3Ga2sXyq"
      },
      "source": [
        "Creación del modelo MLP para procesamiento de imágenes.\n",
        "\n",
        "Define el modelo MLP\n",
        "\n",
        "Tamaño de capa Características\n",
        "\n",
        "Pequeño (64, 128) Menor capacidad, más rápido, menos riesgo de overfitting\n",
        "Mediano (256, 512) Más representativo, pero necesita más datos y regularización\n",
        "Grande (1024+) Solo si tenés muchos datos\n",
        "\n",
        "1. Toma una imagen de 28x28 → la aplana a 784.\n",
        "\n",
        "2. La pasa por dos capas ocultas (128 y 64 neuronas).\n",
        "\n",
        "3. Termina con una capa de salida de 10 neuronas (una por clase).\n",
        "\n",
        "4. Usa una funcion de activacion para activar las capas ocultas."
      ]
    },
    {
      "cell_type": "code",
      "execution_count": 18,
      "metadata": {
        "id": "wZCrnCNUselx"
      },
      "outputs": [],
      "source": [
        "class FashionMLP(nn.Module):\n",
        "  def __init__(self):\n",
        "    super(FashionMLP, self).__init__()\n",
        "    self.flatter = nn.Flatten()\n",
        "    self.net = nn.Sequential(\n",
        "        #TODO: completar las capas ocultas y declarar una función de activacion\n",
        "        nn.Linear(28*28, 256),\n",
        "        nn.ReLU(),\n",
        "        nn.Linear(256, 128),\n",
        "        nn.ReLU(),\n",
        "        nn.Linear(128, 64),\n",
        "        nn.ReLU(),\n",
        "        nn.Linear(64, 10)\n",
        "\n",
        "    )\n",
        "  def forward(self, x):\n",
        "      x = self.flatter(x)\n",
        "      return self.net(x)"
      ]
    },
    {
      "cell_type": "markdown",
      "metadata": {
        "id": "H2Q34VDgwTzy"
      },
      "source": [
        "Declaramos una variable llamada device para utilizarla posteriormente.\n",
        "Declaramos la variable model que tendrá la clase MLP y le pasamos device para que utilice CUDA\n",
        "\n"
      ]
    },
    {
      "cell_type": "code",
      "execution_count": 19,
      "metadata": {
        "id": "L-sfmVSvwZbb"
      },
      "outputs": [],
      "source": [
        "device = torch.device(\"cuda\" if torch.cuda.is_available() else \"cpu\")\n",
        "model = FashionMLP().to(device)"
      ]
    },
    {
      "cell_type": "markdown",
      "metadata": {
        "id": "VA0WLt1LyQ8I"
      },
      "source": [
        "Declaramos la funcion de perdida y el optimizador.\n",
        "\n",
        "La función de pérdida nos dice qué tan mal se está comportando la red. Si el valor es alto, significa que la predicción está lejos de la clase correcta.\n",
        "\n",
        "El optimizador define el algoritmo de optimización que ajustará los pesos del modelo. Usa el optimizador Adam, que es más avanzado que el clásico SGD. Como parametro le pasamos model.parameters() esto pasa todos los pesos entrenables del modelo. lr=0.001 es la tasa de aprendizaje (learning rate).\n",
        "\n",
        "Learning rate: Es un número que controla cuánto cambian los pesos del modelo cada vez que actualizamos (cada batch o paso de entrenamiento)."
      ]
    },
    {
      "cell_type": "code",
      "execution_count": 20,
      "metadata": {
        "id": "9N3iMf28w9lM"
      },
      "outputs": [],
      "source": [
        "#TODO: Declara la variable criterion y una función de perdida a utilizar.\n",
        "criterion = nn.CrossEntropyLoss()\n",
        "#TODO: Declara una variable optimizer y asignale un optimizador, por ejemplo: SGD\n",
        "optimizer = optim.Adam(model.parameters(), lr=0.001)"
      ]
    },
    {
      "cell_type": "markdown",
      "metadata": {
        "id": "p4Vy_kI80sSG"
      },
      "source": [
        "### Entrenamiento\n",
        "\n",
        "Cuando creamos un modelo utilizando PyTorch, el entrenamiento lo hacemos de forma manual.\n",
        "\n",
        "Declaramos las epochs (épocas) o interacciones que hará la red neuronal sobre nuestros datos.\n"
      ]
    },
    {
      "cell_type": "code",
      "execution_count": 21,
      "metadata": {
        "id": "7vTh5yHN1Oj1"
      },
      "outputs": [
        {
          "name": "stdout",
          "output_type": "stream",
          "text": [
            "Iniciando entrenamiento por 10 épocas...\n",
            "Usando dispositivo: cpu\n",
            "Época 1/10, Batch 0, Loss: 2.3407\n",
            "Época 1/10, Batch 1000, Loss: 0.4609\n",
            "Época 1/10, Batch 1000, Loss: 0.4609\n",
            "Época 1/10, Batch 2000, Loss: 1.9778\n",
            "Época 1/10, Batch 2000, Loss: 1.9778\n",
            "Época 1/10, Batch 3000, Loss: 0.2276\n",
            "Época 1/10, Batch 3000, Loss: 0.2276\n",
            "Época 1/10, Batch 4000, Loss: 0.6651\n",
            "Época 1/10, Batch 4000, Loss: 0.6651\n",
            "Época 1/10, Batch 5000, Loss: 0.8752\n",
            "Época 1/10, Batch 5000, Loss: 0.8752\n",
            "Época 1/10, Batch 6000, Loss: 0.0863\n",
            "Época 1/10, Batch 6000, Loss: 0.0863\n",
            "Época 1/10, Batch 7000, Loss: 0.1409\n",
            "Época 1/10, Batch 7000, Loss: 0.1409\n",
            "Época 1/10 completada:\n",
            "  Loss promedio: 0.5088\n",
            "  Accuracy: 81.28%\n",
            "--------------------------------------------------\n",
            "Época 2/10, Batch 0, Loss: 0.5656\n",
            "Época 1/10 completada:\n",
            "  Loss promedio: 0.5088\n",
            "  Accuracy: 81.28%\n",
            "--------------------------------------------------\n",
            "Época 2/10, Batch 0, Loss: 0.5656\n",
            "Época 2/10, Batch 1000, Loss: 0.4314\n",
            "Época 2/10, Batch 1000, Loss: 0.4314\n",
            "Época 2/10, Batch 2000, Loss: 0.2553\n",
            "Época 2/10, Batch 2000, Loss: 0.2553\n",
            "Época 2/10, Batch 3000, Loss: 0.2326\n",
            "Época 2/10, Batch 3000, Loss: 0.2326\n",
            "Época 2/10, Batch 4000, Loss: 0.3479\n",
            "Época 2/10, Batch 4000, Loss: 0.3479\n",
            "Época 2/10, Batch 5000, Loss: 0.4810\n",
            "Época 2/10, Batch 5000, Loss: 0.4810\n",
            "Época 2/10, Batch 6000, Loss: 0.2223\n",
            "Época 2/10, Batch 6000, Loss: 0.2223\n",
            "Época 2/10, Batch 7000, Loss: 0.6718\n",
            "Época 2/10, Batch 7000, Loss: 0.6718\n",
            "Época 2/10 completada:\n",
            "  Loss promedio: 0.3927\n",
            "  Accuracy: 85.55%\n",
            "--------------------------------------------------\n",
            "Época 3/10, Batch 0, Loss: 0.1218\n",
            "Época 2/10 completada:\n",
            "  Loss promedio: 0.3927\n",
            "  Accuracy: 85.55%\n",
            "--------------------------------------------------\n",
            "Época 3/10, Batch 0, Loss: 0.1218\n",
            "Época 3/10, Batch 1000, Loss: 0.2052\n",
            "Época 3/10, Batch 1000, Loss: 0.2052\n",
            "Época 3/10, Batch 2000, Loss: 0.3338\n",
            "Época 3/10, Batch 2000, Loss: 0.3338\n",
            "Época 3/10, Batch 3000, Loss: 0.2038\n",
            "Época 3/10, Batch 3000, Loss: 0.2038\n",
            "Época 3/10, Batch 4000, Loss: 0.1311\n",
            "Época 3/10, Batch 4000, Loss: 0.1311\n",
            "Época 3/10, Batch 5000, Loss: 0.0509\n",
            "Época 3/10, Batch 5000, Loss: 0.0509\n",
            "Época 3/10, Batch 6000, Loss: 0.1114\n",
            "Época 3/10, Batch 6000, Loss: 0.1114\n",
            "Época 3/10, Batch 7000, Loss: 0.0317\n",
            "Época 3/10, Batch 7000, Loss: 0.0317\n",
            "Época 3/10 completada:\n",
            "  Loss promedio: 0.3549\n",
            "  Accuracy: 86.85%\n",
            "--------------------------------------------------\n",
            "Época 4/10, Batch 0, Loss: 0.1211\n",
            "Época 3/10 completada:\n",
            "  Loss promedio: 0.3549\n",
            "  Accuracy: 86.85%\n",
            "--------------------------------------------------\n",
            "Época 4/10, Batch 0, Loss: 0.1211\n",
            "Época 4/10, Batch 1000, Loss: 0.0427\n",
            "Época 4/10, Batch 1000, Loss: 0.0427\n",
            "Época 4/10, Batch 2000, Loss: 0.4640\n",
            "Época 4/10, Batch 2000, Loss: 0.4640\n",
            "Época 4/10, Batch 3000, Loss: 0.4698\n",
            "Época 4/10, Batch 3000, Loss: 0.4698\n",
            "Época 4/10, Batch 4000, Loss: 0.0767\n",
            "Época 4/10, Batch 4000, Loss: 0.0767\n",
            "Época 4/10, Batch 5000, Loss: 0.6920\n",
            "Época 4/10, Batch 5000, Loss: 0.6920\n",
            "Época 4/10, Batch 6000, Loss: 0.4042\n",
            "Época 4/10, Batch 6000, Loss: 0.4042\n",
            "Época 4/10, Batch 7000, Loss: 0.0602\n",
            "Época 4/10, Batch 7000, Loss: 0.0602\n",
            "Época 4/10 completada:\n",
            "  Loss promedio: 0.3353\n",
            "  Accuracy: 87.74%\n",
            "--------------------------------------------------\n",
            "Época 5/10, Batch 0, Loss: 0.1237\n",
            "Época 4/10 completada:\n",
            "  Loss promedio: 0.3353\n",
            "  Accuracy: 87.74%\n",
            "--------------------------------------------------\n",
            "Época 5/10, Batch 0, Loss: 0.1237\n",
            "Época 5/10, Batch 1000, Loss: 0.1587\n",
            "Época 5/10, Batch 1000, Loss: 0.1587\n",
            "Época 5/10, Batch 2000, Loss: 0.5419\n",
            "Época 5/10, Batch 2000, Loss: 0.5419\n",
            "Época 5/10, Batch 3000, Loss: 0.4954\n",
            "Época 5/10, Batch 3000, Loss: 0.4954\n",
            "Época 5/10, Batch 4000, Loss: 0.9122\n",
            "Época 5/10, Batch 4000, Loss: 0.9122\n",
            "Época 5/10, Batch 5000, Loss: 0.3407\n",
            "Época 5/10, Batch 5000, Loss: 0.3407\n",
            "Época 5/10, Batch 6000, Loss: 0.3913\n",
            "Época 5/10, Batch 6000, Loss: 0.3913\n",
            "Época 5/10, Batch 7000, Loss: 0.3467\n",
            "Época 5/10, Batch 7000, Loss: 0.3467\n",
            "Época 5/10 completada:\n",
            "  Loss promedio: 0.3181\n",
            "  Accuracy: 88.36%\n",
            "--------------------------------------------------\n",
            "Época 6/10, Batch 0, Loss: 0.1773\n",
            "Época 5/10 completada:\n",
            "  Loss promedio: 0.3181\n",
            "  Accuracy: 88.36%\n",
            "--------------------------------------------------\n",
            "Época 6/10, Batch 0, Loss: 0.1773\n",
            "Época 6/10, Batch 1000, Loss: 0.1465\n",
            "Época 6/10, Batch 1000, Loss: 0.1465\n",
            "Época 6/10, Batch 2000, Loss: 0.3830\n",
            "Época 6/10, Batch 2000, Loss: 0.3830\n",
            "Época 6/10, Batch 3000, Loss: 0.1466\n",
            "Época 6/10, Batch 3000, Loss: 0.1466\n",
            "Época 6/10, Batch 4000, Loss: 0.0625\n",
            "Época 6/10, Batch 4000, Loss: 0.0625\n",
            "Época 6/10, Batch 5000, Loss: 0.0470\n",
            "Época 6/10, Batch 5000, Loss: 0.0470\n",
            "Época 6/10, Batch 6000, Loss: 0.3657\n",
            "Época 6/10, Batch 6000, Loss: 0.3657\n",
            "Época 6/10, Batch 7000, Loss: 0.0764\n",
            "Época 6/10, Batch 7000, Loss: 0.0764\n",
            "Época 6/10 completada:\n",
            "  Loss promedio: 0.3044\n",
            "  Accuracy: 88.84%\n",
            "--------------------------------------------------\n",
            "Época 7/10, Batch 0, Loss: 0.3254\n",
            "Época 6/10 completada:\n",
            "  Loss promedio: 0.3044\n",
            "  Accuracy: 88.84%\n",
            "--------------------------------------------------\n",
            "Época 7/10, Batch 0, Loss: 0.3254\n",
            "Época 7/10, Batch 1000, Loss: 0.1343\n",
            "Época 7/10, Batch 1000, Loss: 0.1343\n",
            "Época 7/10, Batch 2000, Loss: 0.0533\n",
            "Época 7/10, Batch 2000, Loss: 0.0533\n",
            "Época 7/10, Batch 3000, Loss: 0.3071\n",
            "Época 7/10, Batch 3000, Loss: 0.3071\n",
            "Época 7/10, Batch 4000, Loss: 0.7425\n",
            "Época 7/10, Batch 4000, Loss: 0.7425\n",
            "Época 7/10, Batch 5000, Loss: 0.1724\n",
            "Época 7/10, Batch 5000, Loss: 0.1724\n",
            "Época 7/10, Batch 6000, Loss: 0.1436\n",
            "Época 7/10, Batch 6000, Loss: 0.1436\n",
            "Época 7/10, Batch 7000, Loss: 0.4728\n",
            "Época 7/10, Batch 7000, Loss: 0.4728\n",
            "Época 7/10 completada:\n",
            "  Loss promedio: 0.2971\n",
            "  Accuracy: 89.12%\n",
            "--------------------------------------------------\n",
            "Época 8/10, Batch 0, Loss: 0.5086\n",
            "Época 7/10 completada:\n",
            "  Loss promedio: 0.2971\n",
            "  Accuracy: 89.12%\n",
            "--------------------------------------------------\n",
            "Época 8/10, Batch 0, Loss: 0.5086\n",
            "Época 8/10, Batch 1000, Loss: 0.4019\n",
            "Época 8/10, Batch 1000, Loss: 0.4019\n",
            "Época 8/10, Batch 2000, Loss: 0.2414\n",
            "Época 8/10, Batch 2000, Loss: 0.2414\n",
            "Época 8/10, Batch 3000, Loss: 0.0558\n",
            "Época 8/10, Batch 3000, Loss: 0.0558\n",
            "Época 8/10, Batch 4000, Loss: 0.1245\n",
            "Época 8/10, Batch 4000, Loss: 0.1245\n",
            "Época 8/10, Batch 5000, Loss: 0.1305\n",
            "Época 8/10, Batch 5000, Loss: 0.1305\n",
            "Época 8/10, Batch 6000, Loss: 0.1249\n",
            "Época 8/10, Batch 6000, Loss: 0.1249\n",
            "Época 8/10, Batch 7000, Loss: 0.1997\n",
            "Época 8/10, Batch 7000, Loss: 0.1997\n",
            "Época 8/10 completada:\n",
            "  Loss promedio: 0.2886\n",
            "  Accuracy: 89.35%\n",
            "--------------------------------------------------\n",
            "Época 9/10, Batch 0, Loss: 0.7746\n",
            "Época 8/10 completada:\n",
            "  Loss promedio: 0.2886\n",
            "  Accuracy: 89.35%\n",
            "--------------------------------------------------\n",
            "Época 9/10, Batch 0, Loss: 0.7746\n",
            "Época 9/10, Batch 1000, Loss: 0.9082\n",
            "Época 9/10, Batch 1000, Loss: 0.9082\n",
            "Época 9/10, Batch 2000, Loss: 0.1485\n",
            "Época 9/10, Batch 2000, Loss: 0.1485\n",
            "Época 9/10, Batch 3000, Loss: 0.2357\n",
            "Época 9/10, Batch 3000, Loss: 0.2357\n",
            "Época 9/10, Batch 4000, Loss: 0.6299\n",
            "Época 9/10, Batch 4000, Loss: 0.6299\n",
            "Época 9/10, Batch 5000, Loss: 0.1369\n",
            "Época 9/10, Batch 5000, Loss: 0.1369\n",
            "Época 9/10, Batch 6000, Loss: 0.5190\n",
            "Época 9/10, Batch 6000, Loss: 0.5190\n",
            "Época 9/10, Batch 7000, Loss: 0.1174\n",
            "Época 9/10, Batch 7000, Loss: 0.1174\n",
            "Época 9/10 completada:\n",
            "  Loss promedio: 0.2823\n",
            "  Accuracy: 89.71%\n",
            "--------------------------------------------------\n",
            "Época 10/10, Batch 0, Loss: 0.0912\n",
            "Época 9/10 completada:\n",
            "  Loss promedio: 0.2823\n",
            "  Accuracy: 89.71%\n",
            "--------------------------------------------------\n",
            "Época 10/10, Batch 0, Loss: 0.0912\n",
            "Época 10/10, Batch 1000, Loss: 0.1910\n",
            "Época 10/10, Batch 1000, Loss: 0.1910\n",
            "Época 10/10, Batch 2000, Loss: 0.0419\n",
            "Época 10/10, Batch 2000, Loss: 0.0419\n",
            "Época 10/10, Batch 3000, Loss: 0.4885\n",
            "Época 10/10, Batch 3000, Loss: 0.4885\n",
            "Época 10/10, Batch 4000, Loss: 0.3022\n",
            "Época 10/10, Batch 4000, Loss: 0.3022\n",
            "Época 10/10, Batch 5000, Loss: 0.7878\n",
            "Época 10/10, Batch 5000, Loss: 0.7878\n",
            "Época 10/10, Batch 6000, Loss: 0.4954\n",
            "Época 10/10, Batch 6000, Loss: 0.4954\n",
            "Época 10/10, Batch 7000, Loss: 0.1444\n",
            "Época 10/10, Batch 7000, Loss: 0.1444\n",
            "Época 10/10 completada:\n",
            "  Loss promedio: 0.2742\n",
            "  Accuracy: 89.95%\n",
            "--------------------------------------------------\n",
            "¡Entrenamiento completado!\n",
            "Época 10/10 completada:\n",
            "  Loss promedio: 0.2742\n",
            "  Accuracy: 89.95%\n",
            "--------------------------------------------------\n",
            "¡Entrenamiento completado!\n"
          ]
        }
      ],
      "source": [
        "#TODO: Crear el ciclo de entrenamiento correspondiente al modelo.\n",
        "\n",
        "# Número de épocas\n",
        "epochs = 10\n",
        "\n",
        "# Listas para guardar métricas\n",
        "loss_list = []\n",
        "acc_list = []\n",
        "\n",
        "print(f\"Iniciando entrenamiento por {epochs} épocas...\")\n",
        "print(f\"Usando dispositivo: {device}\")\n",
        "\n",
        "for epoch in range(epochs):\n",
        "    # Estadísticas para esta época\n",
        "    running_loss = 0.0\n",
        "    correct_predictions = 0\n",
        "    total_samples = 0\n",
        "    \n",
        "    # Poner el modelo en modo entrenamiento\n",
        "    model.train()\n",
        "    \n",
        "    # Entrenar en todos los batches\n",
        "    for batch_idx, (data, target) in enumerate(train_loader):\n",
        "        # Mover datos al dispositivo (GPU/CPU)\n",
        "        data, target = data.to(device), target.to(device)\n",
        "        \n",
        "        # Limpiar gradientes del optimizador\n",
        "        optimizer.zero_grad()\n",
        "        \n",
        "        # Forward pass: calcular predicciones\n",
        "        output = model(data)\n",
        "        \n",
        "        # Calcular la función de pérdida\n",
        "        loss = criterion(output, target)\n",
        "        \n",
        "        # Backward pass: calcular gradientes\n",
        "        loss.backward()\n",
        "        \n",
        "        # Actualizar pesos\n",
        "        optimizer.step()\n",
        "        \n",
        "        # Estadísticas\n",
        "        running_loss += loss.item()\n",
        "        _, predicted = torch.max(output.data, 1)\n",
        "        total_samples += target.size(0)\n",
        "        correct_predictions += (predicted == target).sum().item()\n",
        "        \n",
        "        # Mostrar progreso cada 1000 batches\n",
        "        if batch_idx % 1000 == 0:\n",
        "            print(f'Época {epoch+1}/{epochs}, Batch {batch_idx}, '\n",
        "                  f'Loss: {loss.item():.4f}')\n",
        "    \n",
        "    # Calcular métricas de la época\n",
        "    epoch_loss = running_loss / len(train_loader)\n",
        "    epoch_accuracy = 100.0 * correct_predictions / total_samples\n",
        "    \n",
        "    # Guardar métricas\n",
        "    loss_list.append(epoch_loss)\n",
        "    acc_list.append(epoch_accuracy)\n",
        "    \n",
        "    # Mostrar resumen de la época\n",
        "    print(f'Época {epoch+1}/{epochs} completada:')\n",
        "    print(f'  Loss promedio: {epoch_loss:.4f}')\n",
        "    print(f'  Accuracy: {epoch_accuracy:.2f}%')\n",
        "    print('-' * 50)\n",
        "\n",
        "print(\"¡Entrenamiento completado!\")"
      ]
    },
    {
      "cell_type": "markdown",
      "metadata": {
        "id": "9akA5aonuNFt"
      },
      "source": [
        "### Grafico de la perdida y accuracy"
      ]
    },
    {
      "cell_type": "code",
      "execution_count": 22,
      "metadata": {
        "id": "RxUNRWl0uTPa"
      },
      "outputs": [
        {
          "data": {
            "image/png": "[encoded data removed]",
            "text/plain": [
              "<Figure size 1200x500 with 2 Axes>"
            ]
          },
          "metadata": {},
          "output_type": "display_data"
        }
      ],
      "source": [
        "import matplotlib.pyplot as plt\n",
        "\n",
        "plt.figure(figsize=(12,5))  # definimos el tamaño de la figura\n",
        "\n",
        "# Pérdida\n",
        "plt.subplot(1,2,1)                     # primera gráfica (izquierda)\n",
        "plt.plot(range(1, epochs+1), loss_list, marker='o')  # graficamos loss por época\n",
        "plt.title('Loss por época')            # título de la gráfica\n",
        "plt.xlabel('Época')                    # etiqueta eje X\n",
        "plt.ylabel('Loss')                     # etiqueta eje Y\n",
        "plt.grid(True)                         # mostramos cuadrícula\n",
        "\n",
        "# Accuracy\n",
        "plt.subplot(1,2,2)                     # segunda gráfica (derecha)\n",
        "plt.plot(range(1, epochs+1), acc_list, marker='o', color='orange')  # graficamos accuracy\n",
        "plt.title('Accuracy por época')        # título de la gráfica\n",
        "plt.xlabel('Época')                    # etiqueta eje X\n",
        "plt.ylabel('Accuracy (%)')             # etiqueta eje Y\n",
        "plt.grid(True)                         # mostramos cuadrícula\n",
        "\n",
        "plt.tight_layout()                     # ajusta espaciado\n",
        "plt.show()                             # mostramos la figura completa"
      ]
    },
    {
      "cell_type": "markdown",
      "metadata": {
        "id": "sKn620TioWd2"
      },
      "source": [
        "MNIST FASHIONS posee clases para cada numero\n",
        "\n",
        "    \"Remera/Top\",   # 0\n",
        "    \"Pantalón\",     # 1\n",
        "    \"Suéter\",       # 2\n",
        "    \"Vestido\",      # 3\n",
        "    \"Abrigo\",       # 4\n",
        "    \"Sandalia\",     # 5\n",
        "    \"Camisa\",       # 6\n",
        "    \"Zapatilla\",    # 7\n",
        "    \"Bolso\",        # 8\n",
        "    \"Botín\"         # 9\n",
        "\n",
        "\n"
      ]
    },
    {
      "cell_type": "code",
      "execution_count": 23,
      "metadata": {
        "id": "RYNCnCsVoqdv"
      },
      "outputs": [],
      "source": [
        "class_names = [\n",
        "    \"Remera/Top\",    # 0\n",
        "    \"Pantalón\",     # 1\n",
        "    \"Suéter\",       # 2\n",
        "    \"Vestido\",      # 3\n",
        "    \"Abrigo\",       # 4\n",
        "    \"Sandalia\",     # 5\n",
        "    \"Camisa\",       # 6\n",
        "    \"Zapatilla\",    # 7\n",
        "    \"Bolso\",        # 8\n",
        "    \"Botín\"         # 9\n",
        "]"
      ]
    },
    {
      "cell_type": "markdown",
      "metadata": {
        "id": "BzAhDuXgmGYS"
      },
      "source": [
        "### Prediccion"
      ]
    },
    {
      "cell_type": "code",
      "execution_count": 24,
      "metadata": {
        "id": "v8F9YPnnl-Av"
      },
      "outputs": [
        {
          "data": {
            "image/png": "[encoded data removed]",
            "text/plain": [
              "<Figure size 640x480 with 1 Axes>"
            ]
          },
          "metadata": {},
          "output_type": "display_data"
        },
        {
          "name": "stdout",
          "output_type": "stream",
          "text": [
            "tensor([[-40.7788, -40.7417, -45.7826, -48.7770, -43.9218,   4.7322, -38.9700,\n",
            "           8.3894, -11.7719,  -2.0183]])\n",
            "tensor([7])\n",
            "Predicción del modelo: Zapatilla\n"
          ]
        }
      ],
      "source": [
        "import matplotlib.pyplot as plt\n",
        "i= 9\n",
        "# Tomamos una sola imagen del test\n",
        "images, labels = next(iter(test_loader))\n",
        "image = images[i].to(device).unsqueeze(0)  # Agregamos dimensión de batch\n",
        "label = labels[i]\n",
        "\n",
        "# Mostramos la imagen en una escala de grises\n",
        "plt.imshow(images[i].squeeze(), cmap='gray')\n",
        "plt.title(f'Etiqueta real: {class_names[label]}')\n",
        "plt.axis('off')\n",
        "plt.show()\n",
        "\n",
        "# ponemos el modelo en modo evaluacion\n",
        "model.eval()\n",
        "#hacemos la prediccion\n",
        "with torch.no_grad():\n",
        "    output = model(image)\n",
        "    print(output)\n",
        "    _, predicted = torch.max(output, 1)\n",
        "    print(predicted)\n",
        "    print(f'Predicción del modelo: {class_names[predicted.item()]}')"
      ]
    }
  ],
  "metadata": {
    "accelerator": "GPU",
    "colab": {
      "gpuType": "T4",
      "provenance": []
    },
    "kernelspec": {
      "display_name": ".env",
      "language": "python",
      "name": "python3"
    },
    "language_info": {
      "codemirror_mode": {
        "name": "ipython",
        "version": 3
      },
      "file_extension": ".py",
      "mimetype": "text/x-python",
      "name": "python",
      "nbconvert_exporter": "python",
      "pygments_lexer": "ipython3",
      "version": "3.13.7"
    }
  },
  "nbformat": 4,
  "nbformat_minor": 0
}
